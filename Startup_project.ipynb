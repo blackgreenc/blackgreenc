{
  "nbformat": 4,
  "nbformat_minor": 0,
  "metadata": {
    "colab": {
      "name": "Startup_project.ipynb",
      "provenance": [],
      "authorship_tag": "ABX9TyP53cdGh+S5wjDeBrhsSlue",
      "include_colab_link": true
    },
    "kernelspec": {
      "name": "python3",
      "display_name": "Python 3"
    },
    "language_info": {
      "name": "python"
    }
  },
  "cells": [
    {
      "cell_type": "markdown",
      "metadata": {
        "id": "view-in-github",
        "colab_type": "text"
      },
      "source": [
        "<a href=\"https://colab.research.google.com/github/blackgreenc/blackgreenc/blob/main/Startup_project.ipynb\" target=\"_parent\"><img src=\"https://colab.research.google.com/assets/colab-badge.svg\" alt=\"Open In Colab\"/></a>"
      ]
    },
    {
      "cell_type": "code",
      "metadata": {
        "colab": {
          "base_uri": "https://localhost:8080/"
        },
        "id": "RERWL8spv5-K",
        "outputId": "c28af205-854a-4ee8-e214-e60cadd05d0a"
      },
      "source": [
        "!pip install yfinance\n",
        "import numpy as np\n",
        "import tensorflow as tf\n",
        "import matplotlib.pyplot as plt\n",
        "import pandas as pd\n",
        "import yfinance as yf #야후 파이낸스 데이터"
      ],
      "execution_count": 19,
      "outputs": [
        {
          "output_type": "stream",
          "name": "stdout",
          "text": [
            "Requirement already satisfied: yfinance in /usr/local/lib/python3.7/dist-packages (0.1.63)\n",
            "Requirement already satisfied: numpy>=1.15 in /usr/local/lib/python3.7/dist-packages (from yfinance) (1.19.5)\n",
            "Requirement already satisfied: requests>=2.20 in /usr/local/lib/python3.7/dist-packages (from yfinance) (2.23.0)\n",
            "Requirement already satisfied: pandas>=0.24 in /usr/local/lib/python3.7/dist-packages (from yfinance) (1.1.5)\n",
            "Requirement already satisfied: lxml>=4.5.1 in /usr/local/lib/python3.7/dist-packages (from yfinance) (4.6.3)\n",
            "Requirement already satisfied: multitasking>=0.0.7 in /usr/local/lib/python3.7/dist-packages (from yfinance) (0.0.9)\n",
            "Requirement already satisfied: pytz>=2017.2 in /usr/local/lib/python3.7/dist-packages (from pandas>=0.24->yfinance) (2018.9)\n",
            "Requirement already satisfied: python-dateutil>=2.7.3 in /usr/local/lib/python3.7/dist-packages (from pandas>=0.24->yfinance) (2.8.2)\n",
            "Requirement already satisfied: six>=1.5 in /usr/local/lib/python3.7/dist-packages (from python-dateutil>=2.7.3->pandas>=0.24->yfinance) (1.15.0)\n",
            "Requirement already satisfied: idna<3,>=2.5 in /usr/local/lib/python3.7/dist-packages (from requests>=2.20->yfinance) (2.10)\n",
            "Requirement already satisfied: chardet<4,>=3.0.2 in /usr/local/lib/python3.7/dist-packages (from requests>=2.20->yfinance) (3.0.4)\n",
            "Requirement already satisfied: urllib3!=1.25.0,!=1.25.1,<1.26,>=1.21.1 in /usr/local/lib/python3.7/dist-packages (from requests>=2.20->yfinance) (1.24.3)\n",
            "Requirement already satisfied: certifi>=2017.4.17 in /usr/local/lib/python3.7/dist-packages (from requests>=2.20->yfinance) (2021.5.30)\n"
          ]
        }
      ]
    },
    {
      "cell_type": "code",
      "metadata": {
        "colab": {
          "base_uri": "https://localhost:8080/",
          "height": 681
        },
        "id": "wIC_l5nswEP_",
        "outputId": "c8202df0-07df-41a3-8023-bef5e68e2cd0"
      },
      "source": [
        "# BGF retail\n",
        "BGF  = yf.download('282330.KS',\n",
        "                     start = '2018-01-01',\n",
        "                     end = '2021-10-5',\n",
        "                     progress = False)\n",
        "\n",
        "BGF_data = BGF[['Adj Close', 'Open', 'High', 'Low', 'Close','Volume' ]].round(2)\n",
        "BGF_data.rename(columns={'Adj Close':'BGF_Adj Close', 'Open':'BGF_Open', 'High':'BGF_High', 'Low':'BGF_Low', 'Close':'BGF_Close', 'Volume':'BGF_Volume' }, inplace=True)\n",
        "\n",
        "\n",
        "print(\"There are\" + str(BGF_data[:\"2018\"].shape[0]) + \"observations in the training data\")\n",
        "print(\"There are\" + str(BGF_data[:\"2021\"].shape[0]) + \"observations in the training data\")\n",
        "\n",
        "BGF_data['BGF_Adj Close'].plot()\n",
        "BGF_data.shape\n",
        "BGF_data.head(10)"
      ],
      "execution_count": 17,
      "outputs": [
        {
          "output_type": "stream",
          "name": "stdout",
          "text": [
            "There are242observations in the training data\n",
            "There are922observations in the training data\n"
          ]
        },
        {
          "output_type": "execute_result",
          "data": {
            "text/html": [
              "<div>\n",
              "<style scoped>\n",
              "    .dataframe tbody tr th:only-of-type {\n",
              "        vertical-align: middle;\n",
              "    }\n",
              "\n",
              "    .dataframe tbody tr th {\n",
              "        vertical-align: top;\n",
              "    }\n",
              "\n",
              "    .dataframe thead th {\n",
              "        text-align: right;\n",
              "    }\n",
              "</style>\n",
              "<table border=\"1\" class=\"dataframe\">\n",
              "  <thead>\n",
              "    <tr style=\"text-align: right;\">\n",
              "      <th></th>\n",
              "      <th>BGF_Adj Close</th>\n",
              "      <th>BGF_Open</th>\n",
              "      <th>BGF_High</th>\n",
              "      <th>BGF_Low</th>\n",
              "      <th>BGF_Close</th>\n",
              "      <th>BGF_Volume</th>\n",
              "    </tr>\n",
              "    <tr>\n",
              "      <th>Date</th>\n",
              "      <th></th>\n",
              "      <th></th>\n",
              "      <th></th>\n",
              "      <th></th>\n",
              "      <th></th>\n",
              "      <th></th>\n",
              "    </tr>\n",
              "  </thead>\n",
              "  <tbody>\n",
              "    <tr>\n",
              "      <th>2018-01-03</th>\n",
              "      <td>193234.17</td>\n",
              "      <td>205500.0</td>\n",
              "      <td>208500.0</td>\n",
              "      <td>201500.0</td>\n",
              "      <td>202500.0</td>\n",
              "      <td>39089</td>\n",
              "    </tr>\n",
              "    <tr>\n",
              "      <th>2018-01-04</th>\n",
              "      <td>191325.69</td>\n",
              "      <td>203000.0</td>\n",
              "      <td>203500.0</td>\n",
              "      <td>200500.0</td>\n",
              "      <td>200500.0</td>\n",
              "      <td>49743</td>\n",
              "    </tr>\n",
              "    <tr>\n",
              "      <th>2018-01-05</th>\n",
              "      <td>190848.56</td>\n",
              "      <td>202500.0</td>\n",
              "      <td>202500.0</td>\n",
              "      <td>196500.0</td>\n",
              "      <td>200000.0</td>\n",
              "      <td>29452</td>\n",
              "    </tr>\n",
              "    <tr>\n",
              "      <th>2018-01-08</th>\n",
              "      <td>189894.31</td>\n",
              "      <td>200000.0</td>\n",
              "      <td>201000.0</td>\n",
              "      <td>199000.0</td>\n",
              "      <td>199000.0</td>\n",
              "      <td>26055</td>\n",
              "    </tr>\n",
              "    <tr>\n",
              "      <th>2018-01-09</th>\n",
              "      <td>196574.02</td>\n",
              "      <td>199000.0</td>\n",
              "      <td>207000.0</td>\n",
              "      <td>195500.0</td>\n",
              "      <td>206000.0</td>\n",
              "      <td>38911</td>\n",
              "    </tr>\n",
              "    <tr>\n",
              "      <th>2018-01-10</th>\n",
              "      <td>200868.12</td>\n",
              "      <td>207000.0</td>\n",
              "      <td>211500.0</td>\n",
              "      <td>203500.0</td>\n",
              "      <td>210500.0</td>\n",
              "      <td>42692</td>\n",
              "    </tr>\n",
              "    <tr>\n",
              "      <th>2018-01-11</th>\n",
              "      <td>198959.64</td>\n",
              "      <td>212000.0</td>\n",
              "      <td>213000.0</td>\n",
              "      <td>204000.0</td>\n",
              "      <td>208500.0</td>\n",
              "      <td>46884</td>\n",
              "    </tr>\n",
              "    <tr>\n",
              "      <th>2018-01-12</th>\n",
              "      <td>192279.94</td>\n",
              "      <td>209000.0</td>\n",
              "      <td>209500.0</td>\n",
              "      <td>200500.0</td>\n",
              "      <td>201500.0</td>\n",
              "      <td>42666</td>\n",
              "    </tr>\n",
              "    <tr>\n",
              "      <th>2018-01-15</th>\n",
              "      <td>196574.02</td>\n",
              "      <td>202000.0</td>\n",
              "      <td>208000.0</td>\n",
              "      <td>199000.0</td>\n",
              "      <td>206000.0</td>\n",
              "      <td>28168</td>\n",
              "    </tr>\n",
              "    <tr>\n",
              "      <th>2018-01-16</th>\n",
              "      <td>200390.98</td>\n",
              "      <td>206000.0</td>\n",
              "      <td>211000.0</td>\n",
              "      <td>205500.0</td>\n",
              "      <td>210000.0</td>\n",
              "      <td>32777</td>\n",
              "    </tr>\n",
              "  </tbody>\n",
              "</table>\n",
              "</div>"
            ],
            "text/plain": [
              "            BGF_Adj Close  BGF_Open  BGF_High   BGF_Low  BGF_Close  BGF_Volume\n",
              "Date                                                                          \n",
              "2018-01-03      193234.17  205500.0  208500.0  201500.0   202500.0       39089\n",
              "2018-01-04      191325.69  203000.0  203500.0  200500.0   200500.0       49743\n",
              "2018-01-05      190848.56  202500.0  202500.0  196500.0   200000.0       29452\n",
              "2018-01-08      189894.31  200000.0  201000.0  199000.0   199000.0       26055\n",
              "2018-01-09      196574.02  199000.0  207000.0  195500.0   206000.0       38911\n",
              "2018-01-10      200868.12  207000.0  211500.0  203500.0   210500.0       42692\n",
              "2018-01-11      198959.64  212000.0  213000.0  204000.0   208500.0       46884\n",
              "2018-01-12      192279.94  209000.0  209500.0  200500.0   201500.0       42666\n",
              "2018-01-15      196574.02  202000.0  208000.0  199000.0   206000.0       28168\n",
              "2018-01-16      200390.98  206000.0  211000.0  205500.0   210000.0       32777"
            ]
          },
          "metadata": {},
          "execution_count": 17
        },
        {
          "output_type": "display_data",
          "data": {
            "image/png": "[encoded data removed]",
            "text/plain": [
              "<Figure size 432x288 with 1 Axes>"
            ]
          },
          "metadata": {
            "needs_background": "light"
          }
        }
      ]
    },
    {
      "cell_type": "code",
      "metadata": {
        "colab": {
          "base_uri": "https://localhost:8080/",
          "height": 681
        },
        "id": "FfJ7utoz2bX4",
        "outputId": "360c6425-6895-4e58-d9ff-48be3b2b0afe"
      },
      "source": [
        "# BGF retail\n",
        "GS25  = yf.download('007070.KS',\n",
        "                     start = '2018-01-01',\n",
        "                     end = '2021-10-5',\n",
        "                     progress = False)\n",
        "\n",
        "GS25_data = GS25[['Adj Close', 'Open', 'High', 'Low', \"Close\",\"Volume\"]].round(2)\n",
        "GS25_data.rename(columns={'Adj Close':'GS25_Adj Close', 'Open':'GS25_Open', 'High':'GS25_High', 'Low':'GS25_Low', 'Close':'GS25_Close', 'Volume':'GS25_Volume' }, inplace=True)\n",
        "\n",
        "\n",
        "print(\"There are\" + str(GS25_data[:\"2018\"].shape[0]) + \"observations in the training data\")\n",
        "print(\"There are\" + str(GS25_data[:\"2021\"].shape[0]) + \"observations in the training data\")\n",
        "\n",
        "GS25_data['GS25_Adj Close'].plot()\n",
        "GS25_data.shape\n",
        "GS25_data.head(10)"
      ],
      "execution_count": 18,
      "outputs": [
        {
          "output_type": "stream",
          "name": "stdout",
          "text": [
            "There are242observations in the training data\n",
            "There are922observations in the training data\n"
          ]
        },
        {
          "output_type": "execute_result",
          "data": {
            "text/html": [
              "<div>\n",
              "<style scoped>\n",
              "    .dataframe tbody tr th:only-of-type {\n",
              "        vertical-align: middle;\n",
              "    }\n",
              "\n",
              "    .dataframe tbody tr th {\n",
              "        vertical-align: top;\n",
              "    }\n",
              "\n",
              "    .dataframe thead th {\n",
              "        text-align: right;\n",
              "    }\n",
              "</style>\n",
              "<table border=\"1\" class=\"dataframe\">\n",
              "  <thead>\n",
              "    <tr style=\"text-align: right;\">\n",
              "      <th></th>\n",
              "      <th>GS25_Adj Close</th>\n",
              "      <th>GS25_Open</th>\n",
              "      <th>GS25_High</th>\n",
              "      <th>GS25_Low</th>\n",
              "      <th>GS25_Close</th>\n",
              "      <th>GS25_Volume</th>\n",
              "    </tr>\n",
              "    <tr>\n",
              "      <th>Date</th>\n",
              "      <th></th>\n",
              "      <th></th>\n",
              "      <th></th>\n",
              "      <th></th>\n",
              "      <th></th>\n",
              "      <th></th>\n",
              "    </tr>\n",
              "  </thead>\n",
              "  <tbody>\n",
              "    <tr>\n",
              "      <th>2018-01-03</th>\n",
              "      <td>37736.60</td>\n",
              "      <td>40100.0</td>\n",
              "      <td>40900.0</td>\n",
              "      <td>39700.0</td>\n",
              "      <td>40150.0</td>\n",
              "      <td>153451</td>\n",
              "    </tr>\n",
              "    <tr>\n",
              "      <th>2018-01-04</th>\n",
              "      <td>36655.72</td>\n",
              "      <td>40200.0</td>\n",
              "      <td>40200.0</td>\n",
              "      <td>38700.0</td>\n",
              "      <td>39000.0</td>\n",
              "      <td>196831</td>\n",
              "    </tr>\n",
              "    <tr>\n",
              "      <th>2018-01-05</th>\n",
              "      <td>36655.72</td>\n",
              "      <td>39000.0</td>\n",
              "      <td>39000.0</td>\n",
              "      <td>37950.0</td>\n",
              "      <td>39000.0</td>\n",
              "      <td>308109</td>\n",
              "    </tr>\n",
              "    <tr>\n",
              "      <th>2018-01-08</th>\n",
              "      <td>36420.75</td>\n",
              "      <td>39000.0</td>\n",
              "      <td>39700.0</td>\n",
              "      <td>38500.0</td>\n",
              "      <td>38750.0</td>\n",
              "      <td>214098</td>\n",
              "    </tr>\n",
              "    <tr>\n",
              "      <th>2018-01-09</th>\n",
              "      <td>38441.52</td>\n",
              "      <td>38750.0</td>\n",
              "      <td>41000.0</td>\n",
              "      <td>38750.0</td>\n",
              "      <td>40900.0</td>\n",
              "      <td>319511</td>\n",
              "    </tr>\n",
              "    <tr>\n",
              "      <th>2018-01-10</th>\n",
              "      <td>38394.52</td>\n",
              "      <td>41000.0</td>\n",
              "      <td>41700.0</td>\n",
              "      <td>40600.0</td>\n",
              "      <td>40850.0</td>\n",
              "      <td>170603</td>\n",
              "    </tr>\n",
              "    <tr>\n",
              "      <th>2018-01-11</th>\n",
              "      <td>38065.56</td>\n",
              "      <td>41450.0</td>\n",
              "      <td>41450.0</td>\n",
              "      <td>40300.0</td>\n",
              "      <td>40500.0</td>\n",
              "      <td>114743</td>\n",
              "    </tr>\n",
              "    <tr>\n",
              "      <th>2018-01-12</th>\n",
              "      <td>37877.58</td>\n",
              "      <td>40550.0</td>\n",
              "      <td>41050.0</td>\n",
              "      <td>40100.0</td>\n",
              "      <td>40300.0</td>\n",
              "      <td>146589</td>\n",
              "    </tr>\n",
              "    <tr>\n",
              "      <th>2018-01-15</th>\n",
              "      <td>38723.48</td>\n",
              "      <td>40450.0</td>\n",
              "      <td>41350.0</td>\n",
              "      <td>40150.0</td>\n",
              "      <td>41200.0</td>\n",
              "      <td>199136</td>\n",
              "    </tr>\n",
              "    <tr>\n",
              "      <th>2018-01-16</th>\n",
              "      <td>39663.37</td>\n",
              "      <td>41200.0</td>\n",
              "      <td>42500.0</td>\n",
              "      <td>40400.0</td>\n",
              "      <td>42200.0</td>\n",
              "      <td>338046</td>\n",
              "    </tr>\n",
              "  </tbody>\n",
              "</table>\n",
              "</div>"
            ],
            "text/plain": [
              "            GS25_Adj Close  GS25_Open  ...  GS25_Close  GS25_Volume\n",
              "Date                                   ...                         \n",
              "2018-01-03        37736.60    40100.0  ...     40150.0       153451\n",
              "2018-01-04        36655.72    40200.0  ...     39000.0       196831\n",
              "2018-01-05        36655.72    39000.0  ...     39000.0       308109\n",
              "2018-01-08        36420.75    39000.0  ...     38750.0       214098\n",
              "2018-01-09        38441.52    38750.0  ...     40900.0       319511\n",
              "2018-01-10        38394.52    41000.0  ...     40850.0       170603\n",
              "2018-01-11        38065.56    41450.0  ...     40500.0       114743\n",
              "2018-01-12        37877.58    40550.0  ...     40300.0       146589\n",
              "2018-01-15        38723.48    40450.0  ...     41200.0       199136\n",
              "2018-01-16        39663.37    41200.0  ...     42200.0       338046\n",
              "\n",
              "[10 rows x 6 columns]"
            ]
          },
          "metadata": {},
          "execution_count": 18
        },
        {
          "output_type": "display_data",
          "data": {
            "image/png": "[encoded data removed]",
            "text/plain": [
              "<Figure size 432x288 with 1 Axes>"
            ]
          },
          "metadata": {
            "needs_background": "light"
          }
        }
      ]
    },
    {
      "cell_type": "code",
      "metadata": {
        "colab": {
          "base_uri": "https://localhost:8080/",
          "height": 561
        },
        "id": "_I_7-oUA4knf",
        "outputId": "10c9887a-333e-4d22-e87a-dfe68244b8cc"
      },
      "source": [
        "print(BGF_data.index)\n",
        "X = np.linspace(0, BGF_data.index)\n",
        "plt.plot(X, GS25_data['GS25_Adj Close'])\n",
        "plt.plot(X, BGF_data['BGF_Adj Close'])\n",
        "plt.show()"
      ],
      "execution_count": 34,
      "outputs": [
        {
          "output_type": "stream",
          "name": "stdout",
          "text": [
            "DatetimeIndex(['2018-01-03', '2018-01-04', '2018-01-05', '2018-01-08',\n",
            "               '2018-01-09', '2018-01-10', '2018-01-11', '2018-01-12',\n",
            "               '2018-01-15', '2018-01-16',\n",
            "               ...\n",
            "               '2021-09-16', '2021-09-17', '2021-09-23', '2021-09-24',\n",
            "               '2021-09-27', '2021-09-28', '2021-09-29', '2021-09-30',\n",
            "               '2021-10-01', '2021-10-05'],\n",
            "              dtype='datetime64[ns]', name='Date', length=922, freq=None)\n"
          ]
        },
        {
          "output_type": "error",
          "ename": "UFuncTypeError",
          "evalue": "ignored",
          "traceback": [
            "\u001b[0;31m---------------------------------------------------------------------------\u001b[0m",
            "\u001b[0;31mUFuncTypeError\u001b[0m                            Traceback (most recent call last)",
            "\u001b[0;32m<ipython-input-34-0ee2a5f6eeb6>\u001b[0m in \u001b[0;36m<module>\u001b[0;34m()\u001b[0m\n\u001b[1;32m      1\u001b[0m \u001b[0mprint\u001b[0m\u001b[0;34m(\u001b[0m\u001b[0mBGF_data\u001b[0m\u001b[0;34m.\u001b[0m\u001b[0mindex\u001b[0m\u001b[0;34m)\u001b[0m\u001b[0;34m\u001b[0m\u001b[0;34m\u001b[0m\u001b[0m\n\u001b[0;32m----> 2\u001b[0;31m \u001b[0mX\u001b[0m \u001b[0;34m=\u001b[0m \u001b[0mnp\u001b[0m\u001b[0;34m.\u001b[0m\u001b[0mlinspace\u001b[0m\u001b[0;34m(\u001b[0m\u001b[0;36m0\u001b[0m\u001b[0;34m,\u001b[0m \u001b[0mBGF_data\u001b[0m\u001b[0;34m.\u001b[0m\u001b[0mindex\u001b[0m\u001b[0;34m,\u001b[0m \u001b[0;36m920\u001b[0m\u001b[0;34m)\u001b[0m\u001b[0;34m\u001b[0m\u001b[0;34m\u001b[0m\u001b[0m\n\u001b[0m\u001b[1;32m      3\u001b[0m \u001b[0mplt\u001b[0m\u001b[0;34m.\u001b[0m\u001b[0mplot\u001b[0m\u001b[0;34m(\u001b[0m\u001b[0mX\u001b[0m\u001b[0;34m,\u001b[0m \u001b[0mGS25_data\u001b[0m\u001b[0;34m[\u001b[0m\u001b[0;34m'GS25_Adj Close'\u001b[0m\u001b[0;34m]\u001b[0m\u001b[0;34m)\u001b[0m\u001b[0;34m\u001b[0m\u001b[0;34m\u001b[0m\u001b[0m\n\u001b[1;32m      4\u001b[0m \u001b[0mplt\u001b[0m\u001b[0;34m.\u001b[0m\u001b[0mplot\u001b[0m\u001b[0;34m(\u001b[0m\u001b[0mX\u001b[0m\u001b[0;34m,\u001b[0m \u001b[0mBGF_data\u001b[0m\u001b[0;34m[\u001b[0m\u001b[0;34m'BGF_Adj Close'\u001b[0m\u001b[0;34m]\u001b[0m\u001b[0;34m)\u001b[0m\u001b[0;34m\u001b[0m\u001b[0;34m\u001b[0m\u001b[0m\n\u001b[1;32m      5\u001b[0m \u001b[0mplt\u001b[0m\u001b[0;34m.\u001b[0m\u001b[0mshow\u001b[0m\u001b[0;34m(\u001b[0m\u001b[0;34m)\u001b[0m\u001b[0;34m\u001b[0m\u001b[0;34m\u001b[0m\u001b[0m\n",
            "\u001b[0;32m<__array_function__ internals>\u001b[0m in \u001b[0;36mlinspace\u001b[0;34m(*args, **kwargs)\u001b[0m\n",
            "\u001b[0;32m/usr/local/lib/python3.7/dist-packages/numpy/core/function_base.py\u001b[0m in \u001b[0;36mlinspace\u001b[0;34m(start, stop, num, endpoint, retstep, dtype, axis)\u001b[0m\n\u001b[1;32m    119\u001b[0m     \u001b[0;31m# and make sure one can use variables that have an __array_interface__, gh-6634\u001b[0m\u001b[0;34m\u001b[0m\u001b[0;34m\u001b[0m\u001b[0;34m\u001b[0m\u001b[0m\n\u001b[1;32m    120\u001b[0m     \u001b[0mstart\u001b[0m \u001b[0;34m=\u001b[0m \u001b[0masanyarray\u001b[0m\u001b[0;34m(\u001b[0m\u001b[0mstart\u001b[0m\u001b[0;34m)\u001b[0m \u001b[0;34m*\u001b[0m \u001b[0;36m1.0\u001b[0m\u001b[0;34m\u001b[0m\u001b[0;34m\u001b[0m\u001b[0m\n\u001b[0;32m--> 121\u001b[0;31m     \u001b[0mstop\u001b[0m  \u001b[0;34m=\u001b[0m \u001b[0masanyarray\u001b[0m\u001b[0;34m(\u001b[0m\u001b[0mstop\u001b[0m\u001b[0;34m)\u001b[0m  \u001b[0;34m*\u001b[0m \u001b[0;36m1.0\u001b[0m\u001b[0;34m\u001b[0m\u001b[0;34m\u001b[0m\u001b[0m\n\u001b[0m\u001b[1;32m    122\u001b[0m \u001b[0;34m\u001b[0m\u001b[0m\n\u001b[1;32m    123\u001b[0m     \u001b[0mdt\u001b[0m \u001b[0;34m=\u001b[0m \u001b[0mresult_type\u001b[0m\u001b[0;34m(\u001b[0m\u001b[0mstart\u001b[0m\u001b[0;34m,\u001b[0m \u001b[0mstop\u001b[0m\u001b[0;34m,\u001b[0m \u001b[0mfloat\u001b[0m\u001b[0;34m(\u001b[0m\u001b[0mnum\u001b[0m\u001b[0;34m)\u001b[0m\u001b[0;34m)\u001b[0m\u001b[0;34m\u001b[0m\u001b[0;34m\u001b[0m\u001b[0m\n",
            "\u001b[0;31mUFuncTypeError\u001b[0m: ufunc 'multiply' cannot use operands with types dtype('<M8[ns]') and dtype('float64')"
          ]
        }
      ]
    }
  ]
}