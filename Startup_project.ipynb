{
  "nbformat": 4,
  "nbformat_minor": 0,
  "metadata": {
    "colab": {
      "name": "Startup_project.ipynb",
      "provenance": [],
      "authorship_tag": "ABX9TyPatSJWPJictlNsjhv5Edfb",
      "include_colab_link": true
    },
    "kernelspec": {
      "name": "python3",
      "display_name": "Python 3"
    },
    "language_info": {
      "name": "python"
    }
  },
  "cells": [
    {
      "cell_type": "markdown",
      "metadata": {
        "id": "view-in-github",
        "colab_type": "text"
      },
      "source": [
        "<a href=\"https://colab.research.google.com/github/blackgreenc/blackgreenc/blob/main/Startup_project.ipynb\" target=\"_parent\"><img src=\"https://colab.research.google.com/assets/colab-badge.svg\" alt=\"Open In Colab\"/></a>"
      ]
    },
    {
      "cell_type": "code",
      "metadata": {
        "colab": {
          "base_uri": "https://localhost:8080/"
        },
        "id": "RERWL8spv5-K",
        "outputId": "d5a0a750-0644-4f94-e3ce-15fc70668375"
      },
      "source": [
        "!pip install yfinance\n",
        "import numpy as np\n",
        "import tensorflow as tf\n",
        "import pandas as pd\n",
        "import yfinance as yf #야후 파이낸스 데이터"
      ],
      "execution_count": 1,
      "outputs": [
        {
          "output_type": "stream",
          "name": "stdout",
          "text": [
            "Collecting yfinance\n",
            "  Downloading yfinance-0.1.63.tar.gz (26 kB)\n",
            "Requirement already satisfied: pandas>=0.24 in /usr/local/lib/python3.7/dist-packages (from yfinance) (1.1.5)\n",
            "Requirement already satisfied: numpy>=1.15 in /usr/local/lib/python3.7/dist-packages (from yfinance) (1.19.5)\n",
            "Requirement already satisfied: requests>=2.20 in /usr/local/lib/python3.7/dist-packages (from yfinance) (2.23.0)\n",
            "Requirement already satisfied: multitasking>=0.0.7 in /usr/local/lib/python3.7/dist-packages (from yfinance) (0.0.9)\n",
            "Collecting lxml>=4.5.1\n",
            "  Downloading lxml-4.6.3-cp37-cp37m-manylinux2014_x86_64.whl (6.3 MB)\n",
            "\u001b[K     |████████████████████████████████| 6.3 MB 8.3 MB/s \n",
            "\u001b[?25hRequirement already satisfied: pytz>=2017.2 in /usr/local/lib/python3.7/dist-packages (from pandas>=0.24->yfinance) (2018.9)\n",
            "Requirement already satisfied: python-dateutil>=2.7.3 in /usr/local/lib/python3.7/dist-packages (from pandas>=0.24->yfinance) (2.8.2)\n",
            "Requirement already satisfied: six>=1.5 in /usr/local/lib/python3.7/dist-packages (from python-dateutil>=2.7.3->pandas>=0.24->yfinance) (1.15.0)\n",
            "Requirement already satisfied: urllib3!=1.25.0,!=1.25.1,<1.26,>=1.21.1 in /usr/local/lib/python3.7/dist-packages (from requests>=2.20->yfinance) (1.24.3)\n",
            "Requirement already satisfied: chardet<4,>=3.0.2 in /usr/local/lib/python3.7/dist-packages (from requests>=2.20->yfinance) (3.0.4)\n",
            "Requirement already satisfied: idna<3,>=2.5 in /usr/local/lib/python3.7/dist-packages (from requests>=2.20->yfinance) (2.10)\n",
            "Requirement already satisfied: certifi>=2017.4.17 in /usr/local/lib/python3.7/dist-packages (from requests>=2.20->yfinance) (2021.5.30)\n",
            "Building wheels for collected packages: yfinance\n",
            "  Building wheel for yfinance (setup.py) ... \u001b[?25l\u001b[?25hdone\n",
            "  Created wheel for yfinance: filename=yfinance-0.1.63-py2.py3-none-any.whl size=23918 sha256=94d58ee1ad2c09cf79dcf991521062c75a2e677b7ce376ba36ca16d88728bdc3\n",
            "  Stored in directory: /root/.cache/pip/wheels/fe/87/8b/7ec24486e001d3926537f5f7801f57a74d181be25b11157983\n",
            "Successfully built yfinance\n",
            "Installing collected packages: lxml, yfinance\n",
            "  Attempting uninstall: lxml\n",
            "    Found existing installation: lxml 4.2.6\n",
            "    Uninstalling lxml-4.2.6:\n",
            "      Successfully uninstalled lxml-4.2.6\n",
            "Successfully installed lxml-4.6.3 yfinance-0.1.63\n"
          ]
        }
      ]
    },
    {
      "cell_type": "code",
      "metadata": {
        "colab": {
          "base_uri": "https://localhost:8080/",
          "height": 682
        },
        "id": "wIC_l5nswEP_",
        "outputId": "f14af2b0-55e5-4b7d-d33d-0969472c09dd"
      },
      "source": [
        "# BGF retail\n",
        "BGF  = yf.download('282330.KS',\n",
        "                     start = '2018-01-01',\n",
        "                     end = '2021-10-5',\n",
        "                     progress = False)\n",
        "\n",
        "BGF_data = NDX[['Adj Close', 'Open', 'High', 'Low', \"Close\",\"Volume\"]].round(2)\n",
        "BGF_data.rename(columns={'Adj Close':'BGF_Adj Close', 'Open':'BGF_Open', 'High':'BGF_High', 'Low':'BGF_Low', 'Close':'BGF_Close', 'Volume':'BGF_Volume' }, inplace=True)\n",
        "\n",
        "\n",
        "print(\"There are\" + str(BGF_data[:\"2018\"].shape[0]) + \"observations in the training data\")\n",
        "print(\"There are\" + str(BGF_data[:\"2021\"].shape[0]) + \"observations in the training data\")\n",
        "\n",
        "BGF_data['BGF_Adj Close'].plot()\n",
        "BGF_data.shape\n",
        "BGF_data.head(10)"
      ],
      "execution_count": 4,
      "outputs": [
        {
          "output_type": "stream",
          "name": "stdout",
          "text": [
            "There are254observations in the training data\n",
            "There are934observations in the training data\n"
          ]
        },
        {
          "output_type": "execute_result",
          "data": {
            "text/html": [
              "<div>\n",
              "<style scoped>\n",
              "    .dataframe tbody tr th:only-of-type {\n",
              "        vertical-align: middle;\n",
              "    }\n",
              "\n",
              "    .dataframe tbody tr th {\n",
              "        vertical-align: top;\n",
              "    }\n",
              "\n",
              "    .dataframe thead th {\n",
              "        text-align: right;\n",
              "    }\n",
              "</style>\n",
              "<table border=\"1\" class=\"dataframe\">\n",
              "  <thead>\n",
              "    <tr style=\"text-align: right;\">\n",
              "      <th></th>\n",
              "      <th>BGF_Adj Close</th>\n",
              "      <th>BGF_Open</th>\n",
              "      <th>BGF_High</th>\n",
              "      <th>BGF_Low</th>\n",
              "      <th>BGF_Close</th>\n",
              "      <th>BGF_Volume</th>\n",
              "    </tr>\n",
              "    <tr>\n",
              "      <th>Date</th>\n",
              "      <th></th>\n",
              "      <th></th>\n",
              "      <th></th>\n",
              "      <th></th>\n",
              "      <th></th>\n",
              "      <th></th>\n",
              "    </tr>\n",
              "  </thead>\n",
              "  <tbody>\n",
              "    <tr>\n",
              "      <th>2017-12-11</th>\n",
              "      <td>236046.56</td>\n",
              "      <td>222000.0</td>\n",
              "      <td>249000.0</td>\n",
              "      <td>214000.0</td>\n",
              "      <td>248500.0</td>\n",
              "      <td>684631</td>\n",
              "    </tr>\n",
              "    <tr>\n",
              "      <th>2017-12-12</th>\n",
              "      <td>223223.11</td>\n",
              "      <td>242500.0</td>\n",
              "      <td>246500.0</td>\n",
              "      <td>222500.0</td>\n",
              "      <td>235000.0</td>\n",
              "      <td>286513</td>\n",
              "    </tr>\n",
              "    <tr>\n",
              "      <th>2017-12-13</th>\n",
              "      <td>223223.11</td>\n",
              "      <td>235000.0</td>\n",
              "      <td>242500.0</td>\n",
              "      <td>228000.0</td>\n",
              "      <td>235000.0</td>\n",
              "      <td>94609</td>\n",
              "    </tr>\n",
              "    <tr>\n",
              "      <th>2017-12-14</th>\n",
              "      <td>222273.22</td>\n",
              "      <td>236000.0</td>\n",
              "      <td>236500.0</td>\n",
              "      <td>221500.0</td>\n",
              "      <td>234000.0</td>\n",
              "      <td>118532</td>\n",
              "    </tr>\n",
              "    <tr>\n",
              "      <th>2017-12-15</th>\n",
              "      <td>224647.94</td>\n",
              "      <td>230000.0</td>\n",
              "      <td>242000.0</td>\n",
              "      <td>230000.0</td>\n",
              "      <td>236500.0</td>\n",
              "      <td>63106</td>\n",
              "    </tr>\n",
              "    <tr>\n",
              "      <th>2017-12-18</th>\n",
              "      <td>226072.78</td>\n",
              "      <td>240000.0</td>\n",
              "      <td>240000.0</td>\n",
              "      <td>233000.0</td>\n",
              "      <td>238000.0</td>\n",
              "      <td>25868</td>\n",
              "    </tr>\n",
              "    <tr>\n",
              "      <th>2017-12-19</th>\n",
              "      <td>215624.02</td>\n",
              "      <td>237000.0</td>\n",
              "      <td>238000.0</td>\n",
              "      <td>225500.0</td>\n",
              "      <td>227000.0</td>\n",
              "      <td>37388</td>\n",
              "    </tr>\n",
              "    <tr>\n",
              "      <th>2017-12-21</th>\n",
              "      <td>209449.77</td>\n",
              "      <td>225000.0</td>\n",
              "      <td>226000.0</td>\n",
              "      <td>220500.0</td>\n",
              "      <td>220500.0</td>\n",
              "      <td>48028</td>\n",
              "    </tr>\n",
              "    <tr>\n",
              "      <th>2017-12-22</th>\n",
              "      <td>208499.88</td>\n",
              "      <td>224500.0</td>\n",
              "      <td>224500.0</td>\n",
              "      <td>217000.0</td>\n",
              "      <td>219500.0</td>\n",
              "      <td>21824</td>\n",
              "    </tr>\n",
              "    <tr>\n",
              "      <th>2017-12-26</th>\n",
              "      <td>208024.94</td>\n",
              "      <td>217500.0</td>\n",
              "      <td>221500.0</td>\n",
              "      <td>215000.0</td>\n",
              "      <td>219000.0</td>\n",
              "      <td>19031</td>\n",
              "    </tr>\n",
              "  </tbody>\n",
              "</table>\n",
              "</div>"
            ],
            "text/plain": [
              "            BGF_Adj Close  BGF_Open  BGF_High   BGF_Low  BGF_Close  BGF_Volume\n",
              "Date                                                                          \n",
              "2017-12-11      236046.56  222000.0  249000.0  214000.0   248500.0      684631\n",
              "2017-12-12      223223.11  242500.0  246500.0  222500.0   235000.0      286513\n",
              "2017-12-13      223223.11  235000.0  242500.0  228000.0   235000.0       94609\n",
              "2017-12-14      222273.22  236000.0  236500.0  221500.0   234000.0      118532\n",
              "2017-12-15      224647.94  230000.0  242000.0  230000.0   236500.0       63106\n",
              "2017-12-18      226072.78  240000.0  240000.0  233000.0   238000.0       25868\n",
              "2017-12-19      215624.02  237000.0  238000.0  225500.0   227000.0       37388\n",
              "2017-12-21      209449.77  225000.0  226000.0  220500.0   220500.0       48028\n",
              "2017-12-22      208499.88  224500.0  224500.0  217000.0   219500.0       21824\n",
              "2017-12-26      208024.94  217500.0  221500.0  215000.0   219000.0       19031"
            ]
          },
          "metadata": {},
          "execution_count": 4
        },
        {
          "output_type": "display_data",
          "data": {
            "image/png": "[encoded data removed]",
            "text/plain": [
              "<Figure size 432x288 with 1 Axes>"
            ]
          },
          "metadata": {
            "needs_background": "light"
          }
        }
      ]
    }
  ]
}